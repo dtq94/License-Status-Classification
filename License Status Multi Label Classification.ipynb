{
 "cells": [
  {
   "cell_type": "markdown",
   "metadata": {},
   "source": [
    "# License Status Prediction - Multiclass Classification\n",
    "<hr style=\"border:1px solid gray\"> </hr>"
   ]
  },
  {
   "cell_type": "markdown",
   "metadata": {},
   "source": [
    "## Contents\n",
    "\n",
    "    1. Problem Description\n",
    "    2. Data Exploration\n",
    "    3. Feature Selection\n",
    "    4. KNN Algorithm\n",
    "    5. Naive Bias\n",
    "    5. Logistic Regression\n",
    "    6. Decision Tree\n",
    "    \n",
    "--------------------------------------------------------------------------------------------------------------------------------\n"
   ]
  },
  {
   "cell_type": "markdown",
   "metadata": {},
   "source": [
    "### Problem Description\n",
    "\n",
    "We are given a license dataset which holds various information related the business license , The objective of out problem is to predict license Status for the given business.\n",
    "________________________________________________________________________________________________________________________________"
   ]
  },
  {
   "cell_type": "code",
   "execution_count": 2,
   "metadata": {},
   "outputs": [],
   "source": [
    "import warnings\n",
    "warnings.filterwarnings('ignore')"
   ]
  },
  {
   "cell_type": "code",
   "execution_count": 1,
   "metadata": {},
   "outputs": [],
   "source": [
    "import pandas as pd\n",
    "import numpy as np\n",
    "import matplotlib.pyplot as plt\n",
    "%matplotlib inline\n",
    "import os\n",
    "import category_encoders as ce"
   ]
  },
  {
   "cell_type": "markdown",
   "metadata": {},
   "source": [
    "## 1. Data Exploration"
   ]
  },
  {
   "cell_type": "code",
   "execution_count": 3,
   "metadata": {},
   "outputs": [
    {
     "name": "stdout",
     "output_type": "stream",
     "text": [
      "(85895, 32)\n"
     ]
    },
    {
     "data": {
      "text/html": [
       "<div>\n",
       "<style scoped>\n",
       "    .dataframe tbody tr th:only-of-type {\n",
       "        vertical-align: middle;\n",
       "    }\n",
       "\n",
       "    .dataframe tbody tr th {\n",
       "        vertical-align: top;\n",
       "    }\n",
       "\n",
       "    .dataframe thead th {\n",
       "        text-align: right;\n",
       "    }\n",
       "</style>\n",
       "<table border=\"1\" class=\"dataframe\">\n",
       "  <thead>\n",
       "    <tr style=\"text-align: right;\">\n",
       "      <th></th>\n",
       "      <th>0</th>\n",
       "      <th>1</th>\n",
       "      <th>2</th>\n",
       "      <th>3</th>\n",
       "      <th>4</th>\n",
       "    </tr>\n",
       "  </thead>\n",
       "  <tbody>\n",
       "    <tr>\n",
       "      <th>ID</th>\n",
       "      <td>35342-20020816</td>\n",
       "      <td>1358463-20051116</td>\n",
       "      <td>1980233-20090722</td>\n",
       "      <td>1476582-20040211</td>\n",
       "      <td>1141408-20080516</td>\n",
       "    </tr>\n",
       "    <tr>\n",
       "      <th>LICENSE ID</th>\n",
       "      <td>1256593</td>\n",
       "      <td>1639294</td>\n",
       "      <td>1980233</td>\n",
       "      <td>1476582</td>\n",
       "      <td>1896750</td>\n",
       "    </tr>\n",
       "    <tr>\n",
       "      <th>ACCOUNT NUMBER</th>\n",
       "      <td>32811</td>\n",
       "      <td>262311</td>\n",
       "      <td>345008</td>\n",
       "      <td>273121</td>\n",
       "      <td>213785</td>\n",
       "    </tr>\n",
       "    <tr>\n",
       "      <th>SITE NUMBER</th>\n",
       "      <td>1</td>\n",
       "      <td>29</td>\n",
       "      <td>1</td>\n",
       "      <td>1</td>\n",
       "      <td>1</td>\n",
       "    </tr>\n",
       "    <tr>\n",
       "      <th>LEGAL NAME</th>\n",
       "      <td>CARMEN CAHUE</td>\n",
       "      <td>ISLA TROPICAL, INC.</td>\n",
       "      <td>DJS REMODELING</td>\n",
       "      <td>ALL-BRY CONSTRUCTION CO.</td>\n",
       "      <td>MCDONOUGH MECHANICAL SERVICE</td>\n",
       "    </tr>\n",
       "    <tr>\n",
       "      <th>DOING BUSINESS AS NAME</th>\n",
       "      <td>CLAUDIA'S BRIDAL SHOP</td>\n",
       "      <td>ISLA TROPICAL</td>\n",
       "      <td>DJS REMODELING, INC.</td>\n",
       "      <td>ALL-BRY CONSTRUCTION CO.</td>\n",
       "      <td>MCDONOUGH MECHANICAL SERVICE</td>\n",
       "    </tr>\n",
       "    <tr>\n",
       "      <th>ADDRESS</th>\n",
       "      <td>2625 S CENTRAL PARK AVE  1</td>\n",
       "      <td>2825 W MONTROSE AVE</td>\n",
       "      <td>1605  CLAVEY RD 1</td>\n",
       "      <td>8  NORTH TRAIL</td>\n",
       "      <td>4081  JOSEPH DR</td>\n",
       "    </tr>\n",
       "    <tr>\n",
       "      <th>CITY</th>\n",
       "      <td>CHICAGO</td>\n",
       "      <td>CHICAGO</td>\n",
       "      <td>HIGHLAND</td>\n",
       "      <td>LEMONT</td>\n",
       "      <td>WAUKEGAN</td>\n",
       "    </tr>\n",
       "    <tr>\n",
       "      <th>STATE</th>\n",
       "      <td>IL</td>\n",
       "      <td>IL</td>\n",
       "      <td>IL</td>\n",
       "      <td>IL</td>\n",
       "      <td>IL</td>\n",
       "    </tr>\n",
       "    <tr>\n",
       "      <th>ZIP CODE</th>\n",
       "      <td>60623.0</td>\n",
       "      <td>60618</td>\n",
       "      <td>60035</td>\n",
       "      <td>60439</td>\n",
       "      <td>60087</td>\n",
       "    </tr>\n",
       "    <tr>\n",
       "      <th>WARD</th>\n",
       "      <td>22.0</td>\n",
       "      <td>33.0</td>\n",
       "      <td>NaN</td>\n",
       "      <td>NaN</td>\n",
       "      <td>NaN</td>\n",
       "    </tr>\n",
       "    <tr>\n",
       "      <th>PRECINCT</th>\n",
       "      <td>28.0</td>\n",
       "      <td>23.0</td>\n",
       "      <td>NaN</td>\n",
       "      <td>NaN</td>\n",
       "      <td>NaN</td>\n",
       "    </tr>\n",
       "    <tr>\n",
       "      <th>WARD PRECINCT</th>\n",
       "      <td>22-28</td>\n",
       "      <td>33-23</td>\n",
       "      <td>NaN</td>\n",
       "      <td>NaN</td>\n",
       "      <td>NaN</td>\n",
       "    </tr>\n",
       "    <tr>\n",
       "      <th>POLICE DISTRICT</th>\n",
       "      <td>10.0</td>\n",
       "      <td>17.0</td>\n",
       "      <td>NaN</td>\n",
       "      <td>NaN</td>\n",
       "      <td>NaN</td>\n",
       "    </tr>\n",
       "    <tr>\n",
       "      <th>LICENSE CODE</th>\n",
       "      <td>1010</td>\n",
       "      <td>1315</td>\n",
       "      <td>1011</td>\n",
       "      <td>1010</td>\n",
       "      <td>1010</td>\n",
       "    </tr>\n",
       "    <tr>\n",
       "      <th>LICENSE DESCRIPTION</th>\n",
       "      <td>Limited Business License</td>\n",
       "      <td>Mobile Food Dispenser</td>\n",
       "      <td>Home Repair</td>\n",
       "      <td>Limited Business License</td>\n",
       "      <td>Limited Business License</td>\n",
       "    </tr>\n",
       "    <tr>\n",
       "      <th>LICENSE NUMBER</th>\n",
       "      <td>35342.0</td>\n",
       "      <td>1358463.0</td>\n",
       "      <td>1980233.0</td>\n",
       "      <td>1476582.0</td>\n",
       "      <td>1141408.0</td>\n",
       "    </tr>\n",
       "    <tr>\n",
       "      <th>APPLICATION TYPE</th>\n",
       "      <td>RENEW</td>\n",
       "      <td>RENEW</td>\n",
       "      <td>ISSUE</td>\n",
       "      <td>ISSUE</td>\n",
       "      <td>RENEW</td>\n",
       "    </tr>\n",
       "    <tr>\n",
       "      <th>APPLICATION CREATED DATE</th>\n",
       "      <td>NaN</td>\n",
       "      <td>NaN</td>\n",
       "      <td>2009-06-29T00:00:00</td>\n",
       "      <td>2004-02-10T00:00:00</td>\n",
       "      <td>NaN</td>\n",
       "    </tr>\n",
       "    <tr>\n",
       "      <th>APPLICATION REQUIREMENTS COMPLETE</th>\n",
       "      <td>2002-06-28T00:00:00</td>\n",
       "      <td>2005-09-22T00:00:00</td>\n",
       "      <td>2009-07-22T00:00:00</td>\n",
       "      <td>2004-02-10T00:00:00</td>\n",
       "      <td>2008-03-24T00:00:00</td>\n",
       "    </tr>\n",
       "    <tr>\n",
       "      <th>PAYMENT DATE</th>\n",
       "      <td>2002-08-21T00:00:00</td>\n",
       "      <td>2005-11-03T00:00:00</td>\n",
       "      <td>2009-07-22T00:00:00</td>\n",
       "      <td>2004-02-10T00:00:00</td>\n",
       "      <td>2008-06-04T00:00:00</td>\n",
       "    </tr>\n",
       "    <tr>\n",
       "      <th>CONDITIONAL APPROVAL</th>\n",
       "      <td>N</td>\n",
       "      <td>N</td>\n",
       "      <td>N</td>\n",
       "      <td>N</td>\n",
       "      <td>N</td>\n",
       "    </tr>\n",
       "    <tr>\n",
       "      <th>LICENSE TERM START DATE</th>\n",
       "      <td>2002-08-16T00:00:00</td>\n",
       "      <td>2005-11-16T00:00:00</td>\n",
       "      <td>2009-07-22T00:00:00</td>\n",
       "      <td>2004-02-11T00:00:00</td>\n",
       "      <td>2008-05-16T00:00:00</td>\n",
       "    </tr>\n",
       "    <tr>\n",
       "      <th>LICENSE TERM EXPIRATION DATE</th>\n",
       "      <td>2003-08-15T00:00:00</td>\n",
       "      <td>2006-11-15T00:00:00</td>\n",
       "      <td>2011-07-15T00:00:00</td>\n",
       "      <td>2005-02-15T00:00:00</td>\n",
       "      <td>2010-05-15T00:00:00</td>\n",
       "    </tr>\n",
       "    <tr>\n",
       "      <th>LICENSE APPROVED FOR ISSUANCE</th>\n",
       "      <td>2002-08-21T00:00:00</td>\n",
       "      <td>2006-04-05T00:00:00</td>\n",
       "      <td>2009-07-22T00:00:00</td>\n",
       "      <td>2004-02-10T00:00:00</td>\n",
       "      <td>2008-06-04T00:00:00</td>\n",
       "    </tr>\n",
       "    <tr>\n",
       "      <th>DATE ISSUED</th>\n",
       "      <td>2006-04-11T00:00:00</td>\n",
       "      <td>2006-06-12T00:00:00</td>\n",
       "      <td>2009-07-22T00:00:00</td>\n",
       "      <td>2004-02-11T00:00:00</td>\n",
       "      <td>2008-06-05T00:00:00</td>\n",
       "    </tr>\n",
       "    <tr>\n",
       "      <th>LICENSE STATUS CHANGE DATE</th>\n",
       "      <td>NaN</td>\n",
       "      <td>2006-06-15T00:00:00</td>\n",
       "      <td>NaN</td>\n",
       "      <td>NaN</td>\n",
       "      <td>NaN</td>\n",
       "    </tr>\n",
       "    <tr>\n",
       "      <th>SSA</th>\n",
       "      <td>25.0</td>\n",
       "      <td>60.0</td>\n",
       "      <td>NaN</td>\n",
       "      <td>NaN</td>\n",
       "      <td>NaN</td>\n",
       "    </tr>\n",
       "    <tr>\n",
       "      <th>LATITUDE</th>\n",
       "      <td>41.843613</td>\n",
       "      <td>41.961132</td>\n",
       "      <td>NaN</td>\n",
       "      <td>NaN</td>\n",
       "      <td>NaN</td>\n",
       "    </tr>\n",
       "    <tr>\n",
       "      <th>LONGITUDE</th>\n",
       "      <td>-87.714618</td>\n",
       "      <td>-87.699626</td>\n",
       "      <td>NaN</td>\n",
       "      <td>NaN</td>\n",
       "      <td>NaN</td>\n",
       "    </tr>\n",
       "    <tr>\n",
       "      <th>LOCATION</th>\n",
       "      <td>{'latitude': '41.843612879431845', 'longitude'...</td>\n",
       "      <td>{'latitude': '41.96113244107215', 'longitude':...</td>\n",
       "      <td>NaN</td>\n",
       "      <td>NaN</td>\n",
       "      <td>NaN</td>\n",
       "    </tr>\n",
       "    <tr>\n",
       "      <th>LICENSE STATUS</th>\n",
       "      <td>AAI</td>\n",
       "      <td>AAC</td>\n",
       "      <td>AAI</td>\n",
       "      <td>AAI</td>\n",
       "      <td>AAI</td>\n",
       "    </tr>\n",
       "  </tbody>\n",
       "</table>\n",
       "</div>"
      ],
      "text/plain": [
       "                                                                                   0  \\\n",
       "ID                                                                    35342-20020816   \n",
       "LICENSE ID                                                                   1256593   \n",
       "ACCOUNT NUMBER                                                                 32811   \n",
       "SITE NUMBER                                                                        1   \n",
       "LEGAL NAME                                                              CARMEN CAHUE   \n",
       "DOING BUSINESS AS NAME                                         CLAUDIA'S BRIDAL SHOP   \n",
       "ADDRESS                                                   2625 S CENTRAL PARK AVE  1   \n",
       "CITY                                                                         CHICAGO   \n",
       "STATE                                                                             IL   \n",
       "ZIP CODE                                                                     60623.0   \n",
       "WARD                                                                            22.0   \n",
       "PRECINCT                                                                        28.0   \n",
       "WARD PRECINCT                                                                  22-28   \n",
       "POLICE DISTRICT                                                                 10.0   \n",
       "LICENSE CODE                                                                    1010   \n",
       "LICENSE DESCRIPTION                                         Limited Business License   \n",
       "LICENSE NUMBER                                                               35342.0   \n",
       "APPLICATION TYPE                                                               RENEW   \n",
       "APPLICATION CREATED DATE                                                         NaN   \n",
       "APPLICATION REQUIREMENTS COMPLETE                                2002-06-28T00:00:00   \n",
       "PAYMENT DATE                                                     2002-08-21T00:00:00   \n",
       "CONDITIONAL APPROVAL                                                               N   \n",
       "LICENSE TERM START DATE                                          2002-08-16T00:00:00   \n",
       "LICENSE TERM EXPIRATION DATE                                     2003-08-15T00:00:00   \n",
       "LICENSE APPROVED FOR ISSUANCE                                    2002-08-21T00:00:00   \n",
       "DATE ISSUED                                                      2006-04-11T00:00:00   \n",
       "LICENSE STATUS CHANGE DATE                                                       NaN   \n",
       "SSA                                                                             25.0   \n",
       "LATITUDE                                                                   41.843613   \n",
       "LONGITUDE                                                                 -87.714618   \n",
       "LOCATION                           {'latitude': '41.843612879431845', 'longitude'...   \n",
       "LICENSE STATUS                                                                   AAI   \n",
       "\n",
       "                                                                                   1  \\\n",
       "ID                                                                  1358463-20051116   \n",
       "LICENSE ID                                                                   1639294   \n",
       "ACCOUNT NUMBER                                                                262311   \n",
       "SITE NUMBER                                                                       29   \n",
       "LEGAL NAME                                                       ISLA TROPICAL, INC.   \n",
       "DOING BUSINESS AS NAME                                                 ISLA TROPICAL   \n",
       "ADDRESS                                                          2825 W MONTROSE AVE   \n",
       "CITY                                                                         CHICAGO   \n",
       "STATE                                                                             IL   \n",
       "ZIP CODE                                                                       60618   \n",
       "WARD                                                                            33.0   \n",
       "PRECINCT                                                                        23.0   \n",
       "WARD PRECINCT                                                                  33-23   \n",
       "POLICE DISTRICT                                                                 17.0   \n",
       "LICENSE CODE                                                                    1315   \n",
       "LICENSE DESCRIPTION                                            Mobile Food Dispenser   \n",
       "LICENSE NUMBER                                                             1358463.0   \n",
       "APPLICATION TYPE                                                               RENEW   \n",
       "APPLICATION CREATED DATE                                                         NaN   \n",
       "APPLICATION REQUIREMENTS COMPLETE                                2005-09-22T00:00:00   \n",
       "PAYMENT DATE                                                     2005-11-03T00:00:00   \n",
       "CONDITIONAL APPROVAL                                                               N   \n",
       "LICENSE TERM START DATE                                          2005-11-16T00:00:00   \n",
       "LICENSE TERM EXPIRATION DATE                                     2006-11-15T00:00:00   \n",
       "LICENSE APPROVED FOR ISSUANCE                                    2006-04-05T00:00:00   \n",
       "DATE ISSUED                                                      2006-06-12T00:00:00   \n",
       "LICENSE STATUS CHANGE DATE                                       2006-06-15T00:00:00   \n",
       "SSA                                                                             60.0   \n",
       "LATITUDE                                                                   41.961132   \n",
       "LONGITUDE                                                                 -87.699626   \n",
       "LOCATION                           {'latitude': '41.96113244107215', 'longitude':...   \n",
       "LICENSE STATUS                                                                   AAC   \n",
       "\n",
       "                                                      2  \\\n",
       "ID                                     1980233-20090722   \n",
       "LICENSE ID                                      1980233   \n",
       "ACCOUNT NUMBER                                   345008   \n",
       "SITE NUMBER                                           1   \n",
       "LEGAL NAME                               DJS REMODELING   \n",
       "DOING BUSINESS AS NAME             DJS REMODELING, INC.   \n",
       "ADDRESS                               1605  CLAVEY RD 1   \n",
       "CITY                                           HIGHLAND   \n",
       "STATE                                                IL   \n",
       "ZIP CODE                                          60035   \n",
       "WARD                                                NaN   \n",
       "PRECINCT                                            NaN   \n",
       "WARD PRECINCT                                       NaN   \n",
       "POLICE DISTRICT                                     NaN   \n",
       "LICENSE CODE                                       1011   \n",
       "LICENSE DESCRIPTION                         Home Repair   \n",
       "LICENSE NUMBER                                1980233.0   \n",
       "APPLICATION TYPE                                  ISSUE   \n",
       "APPLICATION CREATED DATE            2009-06-29T00:00:00   \n",
       "APPLICATION REQUIREMENTS COMPLETE   2009-07-22T00:00:00   \n",
       "PAYMENT DATE                        2009-07-22T00:00:00   \n",
       "CONDITIONAL APPROVAL                                  N   \n",
       "LICENSE TERM START DATE             2009-07-22T00:00:00   \n",
       "LICENSE TERM EXPIRATION DATE        2011-07-15T00:00:00   \n",
       "LICENSE APPROVED FOR ISSUANCE       2009-07-22T00:00:00   \n",
       "DATE ISSUED                         2009-07-22T00:00:00   \n",
       "LICENSE STATUS CHANGE DATE                          NaN   \n",
       "SSA                                                 NaN   \n",
       "LATITUDE                                            NaN   \n",
       "LONGITUDE                                           NaN   \n",
       "LOCATION                                            NaN   \n",
       "LICENSE STATUS                                      AAI   \n",
       "\n",
       "                                                          3  \\\n",
       "ID                                         1476582-20040211   \n",
       "LICENSE ID                                          1476582   \n",
       "ACCOUNT NUMBER                                       273121   \n",
       "SITE NUMBER                                               1   \n",
       "LEGAL NAME                         ALL-BRY CONSTRUCTION CO.   \n",
       "DOING BUSINESS AS NAME             ALL-BRY CONSTRUCTION CO.   \n",
       "ADDRESS                                      8  NORTH TRAIL   \n",
       "CITY                                                 LEMONT   \n",
       "STATE                                                    IL   \n",
       "ZIP CODE                                              60439   \n",
       "WARD                                                    NaN   \n",
       "PRECINCT                                                NaN   \n",
       "WARD PRECINCT                                           NaN   \n",
       "POLICE DISTRICT                                         NaN   \n",
       "LICENSE CODE                                           1010   \n",
       "LICENSE DESCRIPTION                Limited Business License   \n",
       "LICENSE NUMBER                                    1476582.0   \n",
       "APPLICATION TYPE                                      ISSUE   \n",
       "APPLICATION CREATED DATE                2004-02-10T00:00:00   \n",
       "APPLICATION REQUIREMENTS COMPLETE       2004-02-10T00:00:00   \n",
       "PAYMENT DATE                            2004-02-10T00:00:00   \n",
       "CONDITIONAL APPROVAL                                      N   \n",
       "LICENSE TERM START DATE                 2004-02-11T00:00:00   \n",
       "LICENSE TERM EXPIRATION DATE            2005-02-15T00:00:00   \n",
       "LICENSE APPROVED FOR ISSUANCE           2004-02-10T00:00:00   \n",
       "DATE ISSUED                             2004-02-11T00:00:00   \n",
       "LICENSE STATUS CHANGE DATE                              NaN   \n",
       "SSA                                                     NaN   \n",
       "LATITUDE                                                NaN   \n",
       "LONGITUDE                                               NaN   \n",
       "LOCATION                                                NaN   \n",
       "LICENSE STATUS                                          AAI   \n",
       "\n",
       "                                                              4  \n",
       "ID                                             1141408-20080516  \n",
       "LICENSE ID                                              1896750  \n",
       "ACCOUNT NUMBER                                           213785  \n",
       "SITE NUMBER                                                   1  \n",
       "LEGAL NAME                         MCDONOUGH MECHANICAL SERVICE  \n",
       "DOING BUSINESS AS NAME             MCDONOUGH MECHANICAL SERVICE  \n",
       "ADDRESS                                         4081  JOSEPH DR  \n",
       "CITY                                                   WAUKEGAN  \n",
       "STATE                                                        IL  \n",
       "ZIP CODE                                                  60087  \n",
       "WARD                                                        NaN  \n",
       "PRECINCT                                                    NaN  \n",
       "WARD PRECINCT                                               NaN  \n",
       "POLICE DISTRICT                                             NaN  \n",
       "LICENSE CODE                                               1010  \n",
       "LICENSE DESCRIPTION                    Limited Business License  \n",
       "LICENSE NUMBER                                        1141408.0  \n",
       "APPLICATION TYPE                                          RENEW  \n",
       "APPLICATION CREATED DATE                                    NaN  \n",
       "APPLICATION REQUIREMENTS COMPLETE           2008-03-24T00:00:00  \n",
       "PAYMENT DATE                                2008-06-04T00:00:00  \n",
       "CONDITIONAL APPROVAL                                          N  \n",
       "LICENSE TERM START DATE                     2008-05-16T00:00:00  \n",
       "LICENSE TERM EXPIRATION DATE                2010-05-15T00:00:00  \n",
       "LICENSE APPROVED FOR ISSUANCE               2008-06-04T00:00:00  \n",
       "DATE ISSUED                                 2008-06-05T00:00:00  \n",
       "LICENSE STATUS CHANGE DATE                                  NaN  \n",
       "SSA                                                         NaN  \n",
       "LATITUDE                                                    NaN  \n",
       "LONGITUDE                                                   NaN  \n",
       "LOCATION                                                    NaN  \n",
       "LICENSE STATUS                                              AAI  "
      ]
     },
     "metadata": {},
     "output_type": "display_data"
    }
   ],
   "source": [
    "# read the df\n",
    "df = pd.read_csv(\"License_data.csv\")\n",
    "\n",
    "# print the shape of the dataframe\n",
    "print(df.shape)\n",
    "\n",
    "# show the top few rows\n",
    "display(df.head().T)"
   ]
  },
  {
   "cell_type": "code",
   "execution_count": 5,
   "metadata": {},
   "outputs": [],
   "source": [
    "# change the columns name\n",
    "# into Lowercase & adding '_'\n",
    "new_col_name = [col.replace(\" \",\"_\").lower() for col in df.columns]\n",
    "df.columns = new_col_name"
   ]
  },
  {
   "cell_type": "markdown",
   "metadata": {},
   "source": [
    "## Variable Description\n",
    "\n",
    "<b>Dependent Variable</b>   <br>\n",
    "&nbsp;&nbsp;&nbsp;&nbsp;    1. AAI - License status is issued <br>\n",
    "&nbsp;&nbsp;&nbsp;&nbsp;    2. AAC - License status is cancelled <br>\n",
    "&nbsp;&nbsp;&nbsp;&nbsp;    3. REV - License status is revoked <br>\n",
    "&nbsp;&nbsp;&nbsp;&nbsp;    4. REA - License status is revoked and appealed <br>\n",
    "&nbsp;&nbsp;&nbsp;&nbsp;    5. INQ - License status is in enquiry <br>\n",
    "    <br>\n",
    "<b>Independent Variable</b> : <br>\n",
    "&nbsp;&nbsp;&nbsp;&nbsp;    Timeline of the application status <br>\n",
    "&nbsp;&nbsp;&nbsp;&nbsp;    Type of business <br>\n",
    "&nbsp;&nbsp;&nbsp;&nbsp;    Location details of the business <br>\n",
    "&nbsp;&nbsp;&nbsp;&nbsp;    Payment details <br>\n",
    "_______________________________________________________________________________________________________________________________"
   ]
  },
  {
   "cell_type": "code",
   "execution_count": 6,
   "metadata": {},
   "outputs": [
    {
     "data": {
      "text/plain": [
       "Index(['id', 'license_id', 'account_number', 'site_number', 'legal_name',\n",
       "       'doing_business_as_name', 'address', 'city', 'state', 'zip_code',\n",
       "       'ward', 'precinct', 'ward_precinct', 'police_district', 'license_code',\n",
       "       'license_description', 'license_number', 'application_type',\n",
       "       'application_created_date', 'application_requirements_complete',\n",
       "       'payment_date', 'conditional_approval', 'license_term_start_date',\n",
       "       'license_term_expiration_date', 'license_approved_for_issuance',\n",
       "       'date_issued', 'license_status_change_date', 'ssa', 'latitude',\n",
       "       'longitude', 'location', 'license_status'],\n",
       "      dtype='object')"
      ]
     },
     "execution_count": 6,
     "metadata": {},
     "output_type": "execute_result"
    }
   ],
   "source": [
    "df.columns"
   ]
  },
  {
   "cell_type": "markdown",
   "metadata": {},
   "source": [
    "## 2. Data Cleaning\n",
    "\n",
    "1. Missing Values - lot of missing data for particular variables\n",
    "2. Unique Data - id (no meaning)\n",
    "3. Data leakage - The AAI alone doesn't have license status change value (as the license are never revoked/cancelled) \n"
   ]
  },
  {
   "cell_type": "code",
   "execution_count": 7,
   "metadata": {},
   "outputs": [
    {
     "data": {
      "text/plain": [
       "id                                       0\n",
       "license_id                               0\n",
       "account_number                           0\n",
       "site_number                              0\n",
       "legal_name                               0\n",
       "doing_business_as_name                   1\n",
       "address                                  0\n",
       "city                                     0\n",
       "state                                    0\n",
       "zip_code                                31\n",
       "ward                                 49701\n",
       "precinct                             56701\n",
       "ward_precinct                        49700\n",
       "police_district                      54012\n",
       "license_code                             0\n",
       "license_description                      0\n",
       "license_number                           1\n",
       "application_type                         0\n",
       "application_created_date             64660\n",
       "application_requirements_complete      214\n",
       "payment_date                          1289\n",
       "conditional_approval                     0\n",
       "license_term_start_date                228\n",
       "license_term_expiration_date            18\n",
       "license_approved_for_issuance         6789\n",
       "date_issued                              0\n",
       "license_status_change_date           55400\n",
       "ssa                                  76446\n",
       "latitude                             47246\n",
       "longitude                            47246\n",
       "location                             47246\n",
       "license_status                           0\n",
       "dtype: int64"
      ]
     },
     "execution_count": 7,
     "metadata": {},
     "output_type": "execute_result"
    }
   ],
   "source": [
    "df.isnull().sum()"
   ]
  },
  {
   "cell_type": "code",
   "execution_count": 8,
   "metadata": {},
   "outputs": [],
   "source": [
    "# Drop columns which are not relevent for the prediction / too many missing values\n",
    "drop_col_list = [\"id\",\"license_id\",\"ssa\",\"location\",\"application_created_date\",\"account_number\",\"address\"]\n",
    "df = df.drop(drop_col_list, axis=1)"
   ]
  },
  {
   "cell_type": "code",
   "execution_count": 11,
   "metadata": {},
   "outputs": [],
   "source": [
    "df[\"license_status_change\"] = np.where(df.license_status_change_date.isnull(),1,0)"
   ]
  },
  {
   "cell_type": "markdown",
   "metadata": {},
   "source": [
    "#### **Contingency Table (Cross-Tabulation)**"
   ]
  },
  {
   "cell_type": "code",
   "execution_count": 72,
   "metadata": {},
   "outputs": [
    {
     "data": {
      "text/html": [
       "<div>\n",
       "<style scoped>\n",
       "    .dataframe tbody tr th:only-of-type {\n",
       "        vertical-align: middle;\n",
       "    }\n",
       "\n",
       "    .dataframe tbody tr th {\n",
       "        vertical-align: top;\n",
       "    }\n",
       "\n",
       "    .dataframe thead th {\n",
       "        text-align: right;\n",
       "    }\n",
       "</style>\n",
       "<table border=\"1\" class=\"dataframe\">\n",
       "  <thead>\n",
       "    <tr style=\"text-align: right;\">\n",
       "      <th>license_status</th>\n",
       "      <th>AAC</th>\n",
       "      <th>AAI</th>\n",
       "      <th>INQ</th>\n",
       "      <th>REA</th>\n",
       "      <th>REV</th>\n",
       "    </tr>\n",
       "    <tr>\n",
       "      <th>license_status_change</th>\n",
       "      <th></th>\n",
       "      <th></th>\n",
       "      <th></th>\n",
       "      <th></th>\n",
       "      <th></th>\n",
       "    </tr>\n",
       "  </thead>\n",
       "  <tbody>\n",
       "    <tr>\n",
       "      <th>0</th>\n",
       "      <td>30200</td>\n",
       "      <td>0</td>\n",
       "      <td>2</td>\n",
       "      <td>3</td>\n",
       "      <td>290</td>\n",
       "    </tr>\n",
       "    <tr>\n",
       "      <th>1</th>\n",
       "      <td>0</td>\n",
       "      <td>55400</td>\n",
       "      <td>0</td>\n",
       "      <td>0</td>\n",
       "      <td>0</td>\n",
       "    </tr>\n",
       "  </tbody>\n",
       "</table>\n",
       "</div>"
      ],
      "text/plain": [
       "license_status           AAC    AAI  INQ  REA  REV\n",
       "license_status_change                             \n",
       "0                      30200      0    2    3  290\n",
       "1                          0  55400    0    0    0"
      ]
     },
     "execution_count": 72,
     "metadata": {},
     "output_type": "execute_result"
    }
   ],
   "source": [
    "pd.crosstab(df.license_status_change,df.license_status)"
   ]
  },
  {
   "cell_type": "markdown",
   "metadata": {},
   "source": [
    "**The first row represents records where license_status_change is 0, meaning there has been no change in license status.\n",
    "The second row represents records where license_status_change is 1, indicating a change in license status.**\n",
    "\n",
    "**Most of the records (55,400) with a change in license status are currently designated as AAI.\n",
    "For the records where there's been no change in license status, the majority (30,200) are currently designated as AAC.\n",
    "There are no records where the license status has changed to AAC, INQ, REA, or REV.**"
   ]
  },
  {
   "cell_type": "markdown",
   "metadata": {},
   "source": [
    "## **Data Transformation**\n",
    "1. Timeline creation\n",
    "2. Encoding\n",
    "3. New Feature"
   ]
  },
  {
   "cell_type": "code",
   "execution_count": 13,
   "metadata": {},
   "outputs": [],
   "source": [
    "# convert string object into date\n",
    "df.application_requirements_complete = pd.DatetimeIndex(df.application_requirements_complete)\n",
    "df.payment_date = pd.DatetimeIndex(df.payment_date)\n",
    "df.license_term_start_date = pd.DatetimeIndex(df.license_term_start_date)\n",
    "df.license_term_expiration_date = pd.DatetimeIndex(df.license_term_expiration_date)\n",
    "df.license_approved_for_issuance = pd.DatetimeIndex(df.license_approved_for_issuance)\n",
    "df.date_issued = pd.DatetimeIndex(df.date_issued)"
   ]
  },
  {
   "cell_type": "code",
   "execution_count": 14,
   "metadata": {},
   "outputs": [],
   "source": [
    "# Find no.of days btw different application status date\n",
    "df[\"completion_to_start\"] = (df.license_term_start_date - df.application_requirements_complete).dt.days\n",
    "df[\"start_to_expiry\"] =  (df.license_term_expiration_date - df.license_term_start_date).dt.days\n",
    "df[\"approval_to_issuance\"] = (df.date_issued - df.license_approved_for_issuance).dt.days\n",
    "df[\"completion_to_payment\"] = (df.payment_date - df.application_requirements_complete).dt.days\n",
    "\n",
    "df[\"presence_of_enquiry_details\"] = np.where(df.ward.isnull() | df.ward_precinct.isnull() | df.police_district | df.precinct , 0 ,1 )\n",
    "\n",
    "#converts categorical data into numerical codes\n",
    "df[\"target\"] = df[['license_status']].apply(lambda col:pd.Categorical(col).codes) "
   ]
  },
  {
   "cell_type": "code",
   "execution_count": 17,
   "metadata": {},
   "outputs": [
    {
     "data": {
      "text/plain": [
       "array([1, 0, 4, 3, 2], dtype=int8)"
      ]
     },
     "execution_count": 17,
     "metadata": {},
     "output_type": "execute_result"
    }
   ],
   "source": [
    "df['target'].unique()"
   ]
  },
  {
   "cell_type": "code",
   "execution_count": 18,
   "metadata": {},
   "outputs": [
    {
     "data": {
      "text/plain": [
       "array(['CHICAGO', 'HIGHLAND', 'LEMONT', ..., 'ABERDEEN', 'PENSACOLA',\n",
       "       'MACHESNEY PARK'], dtype=object)"
      ]
     },
     "execution_count": 18,
     "metadata": {},
     "output_type": "execute_result"
    }
   ],
   "source": [
    "df.city.unique()"
   ]
  },
  {
   "cell_type": "code",
   "execution_count": 19,
   "metadata": {},
   "outputs": [
    {
     "name": "stdout",
     "output_type": "stream",
     "text": [
      "Index(['target_1', 'target_2', 'target_3', 'target_4', 'target_5'], dtype='object')\n"
     ]
    }
   ],
   "source": [
    "enc=ce.OneHotEncoder().fit(df.target.astype(str))\n",
    "y_onehot=enc.transform(df.target.astype(str))\n",
    "print(y_onehot.columns)"
   ]
  },
  {
   "cell_type": "markdown",
   "metadata": {},
   "source": [
    "## Target Encoding"
   ]
  },
  {
   "cell_type": "code",
   "execution_count": 20,
   "metadata": {},
   "outputs": [],
   "source": [
    "enc=ce.OneHotEncoder().fit(df.target.astype(str))\n",
    "y_onehot=enc.transform(df.target.astype(str))\n",
    "\n",
    "\n",
    "#This encoding can capture relationships between categorical features and the target variable\n",
    "\n",
    "class_names=y_onehot.columns\n",
    "for class_ in class_names:\n",
    "  enc=ce.TargetEncoder(smoothing=0)\n",
    "  temp = enc.fit_transform(df[[\"license_description\",\"state\",\"city\"]],y_onehot[class_])\n",
    "  temp.columns=[str(x)+'_'+str(class_) for x in temp.columns]\n",
    "  df = pd.concat([df,temp],axis=1)"
   ]
  },
  {
   "cell_type": "code",
   "execution_count": 22,
   "metadata": {},
   "outputs": [
    {
     "data": {
      "text/html": [
       "<div>\n",
       "<style scoped>\n",
       "    .dataframe tbody tr th:only-of-type {\n",
       "        vertical-align: middle;\n",
       "    }\n",
       "\n",
       "    .dataframe tbody tr th {\n",
       "        vertical-align: top;\n",
       "    }\n",
       "\n",
       "    .dataframe thead th {\n",
       "        text-align: right;\n",
       "    }\n",
       "</style>\n",
       "<table border=\"1\" class=\"dataframe\">\n",
       "  <thead>\n",
       "    <tr style=\"text-align: right;\">\n",
       "      <th></th>\n",
       "      <th>site_number</th>\n",
       "      <th>legal_name</th>\n",
       "      <th>doing_business_as_name</th>\n",
       "      <th>city</th>\n",
       "      <th>state</th>\n",
       "      <th>zip_code</th>\n",
       "      <th>ward</th>\n",
       "      <th>precinct</th>\n",
       "      <th>ward_precinct</th>\n",
       "      <th>police_district</th>\n",
       "      <th>...</th>\n",
       "      <th>city_target_2</th>\n",
       "      <th>license_description_target_3</th>\n",
       "      <th>state_target_3</th>\n",
       "      <th>city_target_3</th>\n",
       "      <th>license_description_target_4</th>\n",
       "      <th>state_target_4</th>\n",
       "      <th>city_target_4</th>\n",
       "      <th>license_description_target_5</th>\n",
       "      <th>state_target_5</th>\n",
       "      <th>city_target_5</th>\n",
       "    </tr>\n",
       "  </thead>\n",
       "  <tbody>\n",
       "    <tr>\n",
       "      <th>0</th>\n",
       "      <td>1</td>\n",
       "      <td>CARMEN CAHUE</td>\n",
       "      <td>CLAUDIA'S BRIDAL SHOP</td>\n",
       "      <td>CHICAGO</td>\n",
       "      <td>IL</td>\n",
       "      <td>60623.0</td>\n",
       "      <td>22.0</td>\n",
       "      <td>28.0</td>\n",
       "      <td>22-28</td>\n",
       "      <td>10.0</td>\n",
       "      <td>...</td>\n",
       "      <td>0.702863</td>\n",
       "      <td>0.001118</td>\n",
       "      <td>0.0036</td>\n",
       "      <td>0.007865</td>\n",
       "      <td>0.0</td>\n",
       "      <td>0.000037</td>\n",
       "      <td>0.000082</td>\n",
       "      <td>0.000020</td>\n",
       "      <td>0.000025</td>\n",
       "      <td>0.0</td>\n",
       "    </tr>\n",
       "    <tr>\n",
       "      <th>1</th>\n",
       "      <td>29</td>\n",
       "      <td>ISLA TROPICAL, INC.</td>\n",
       "      <td>ISLA TROPICAL</td>\n",
       "      <td>CHICAGO</td>\n",
       "      <td>IL</td>\n",
       "      <td>60618</td>\n",
       "      <td>33.0</td>\n",
       "      <td>23.0</td>\n",
       "      <td>33-23</td>\n",
       "      <td>17.0</td>\n",
       "      <td>...</td>\n",
       "      <td>0.702863</td>\n",
       "      <td>0.000000</td>\n",
       "      <td>0.0036</td>\n",
       "      <td>0.007865</td>\n",
       "      <td>0.0</td>\n",
       "      <td>0.000037</td>\n",
       "      <td>0.000082</td>\n",
       "      <td>0.000000</td>\n",
       "      <td>0.000025</td>\n",
       "      <td>0.0</td>\n",
       "    </tr>\n",
       "    <tr>\n",
       "      <th>2</th>\n",
       "      <td>1</td>\n",
       "      <td>DJS REMODELING</td>\n",
       "      <td>DJS REMODELING, INC.</td>\n",
       "      <td>HIGHLAND</td>\n",
       "      <td>IL</td>\n",
       "      <td>60035</td>\n",
       "      <td>NaN</td>\n",
       "      <td>NaN</td>\n",
       "      <td>NaN</td>\n",
       "      <td>NaN</td>\n",
       "      <td>...</td>\n",
       "      <td>0.185185</td>\n",
       "      <td>0.000000</td>\n",
       "      <td>0.0036</td>\n",
       "      <td>0.000000</td>\n",
       "      <td>0.0</td>\n",
       "      <td>0.000037</td>\n",
       "      <td>0.000000</td>\n",
       "      <td>0.000094</td>\n",
       "      <td>0.000025</td>\n",
       "      <td>0.0</td>\n",
       "    </tr>\n",
       "    <tr>\n",
       "      <th>3</th>\n",
       "      <td>1</td>\n",
       "      <td>ALL-BRY CONSTRUCTION CO.</td>\n",
       "      <td>ALL-BRY CONSTRUCTION CO.</td>\n",
       "      <td>LEMONT</td>\n",
       "      <td>IL</td>\n",
       "      <td>60439</td>\n",
       "      <td>NaN</td>\n",
       "      <td>NaN</td>\n",
       "      <td>NaN</td>\n",
       "      <td>NaN</td>\n",
       "      <td>...</td>\n",
       "      <td>0.067278</td>\n",
       "      <td>0.001118</td>\n",
       "      <td>0.0036</td>\n",
       "      <td>0.000000</td>\n",
       "      <td>0.0</td>\n",
       "      <td>0.000037</td>\n",
       "      <td>0.000000</td>\n",
       "      <td>0.000020</td>\n",
       "      <td>0.000025</td>\n",
       "      <td>0.0</td>\n",
       "    </tr>\n",
       "    <tr>\n",
       "      <th>4</th>\n",
       "      <td>1</td>\n",
       "      <td>MCDONOUGH MECHANICAL SERVICE</td>\n",
       "      <td>MCDONOUGH MECHANICAL SERVICE</td>\n",
       "      <td>WAUKEGAN</td>\n",
       "      <td>IL</td>\n",
       "      <td>60087</td>\n",
       "      <td>NaN</td>\n",
       "      <td>NaN</td>\n",
       "      <td>NaN</td>\n",
       "      <td>NaN</td>\n",
       "      <td>...</td>\n",
       "      <td>0.061350</td>\n",
       "      <td>0.001118</td>\n",
       "      <td>0.0036</td>\n",
       "      <td>0.000000</td>\n",
       "      <td>0.0</td>\n",
       "      <td>0.000037</td>\n",
       "      <td>0.000000</td>\n",
       "      <td>0.000020</td>\n",
       "      <td>0.000025</td>\n",
       "      <td>0.0</td>\n",
       "    </tr>\n",
       "  </tbody>\n",
       "</table>\n",
       "<p>5 rows × 47 columns</p>\n",
       "</div>"
      ],
      "text/plain": [
       "   site_number                    legal_name        doing_business_as_name  \\\n",
       "0            1                  CARMEN CAHUE         CLAUDIA'S BRIDAL SHOP   \n",
       "1           29           ISLA TROPICAL, INC.                 ISLA TROPICAL   \n",
       "2            1                DJS REMODELING          DJS REMODELING, INC.   \n",
       "3            1      ALL-BRY CONSTRUCTION CO.      ALL-BRY CONSTRUCTION CO.   \n",
       "4            1  MCDONOUGH MECHANICAL SERVICE  MCDONOUGH MECHANICAL SERVICE   \n",
       "\n",
       "       city state zip_code  ward  precinct ward_precinct  police_district  \\\n",
       "0   CHICAGO    IL  60623.0  22.0      28.0         22-28             10.0   \n",
       "1   CHICAGO    IL    60618  33.0      23.0         33-23             17.0   \n",
       "2  HIGHLAND    IL    60035   NaN       NaN           NaN              NaN   \n",
       "3    LEMONT    IL    60439   NaN       NaN           NaN              NaN   \n",
       "4  WAUKEGAN    IL    60087   NaN       NaN           NaN              NaN   \n",
       "\n",
       "   ...  city_target_2 license_description_target_3  state_target_3  \\\n",
       "0  ...       0.702863                     0.001118          0.0036   \n",
       "1  ...       0.702863                     0.000000          0.0036   \n",
       "2  ...       0.185185                     0.000000          0.0036   \n",
       "3  ...       0.067278                     0.001118          0.0036   \n",
       "4  ...       0.061350                     0.001118          0.0036   \n",
       "\n",
       "  city_target_3 license_description_target_4 state_target_4 city_target_4  \\\n",
       "0      0.007865                          0.0       0.000037      0.000082   \n",
       "1      0.007865                          0.0       0.000037      0.000082   \n",
       "2      0.000000                          0.0       0.000037      0.000000   \n",
       "3      0.000000                          0.0       0.000037      0.000000   \n",
       "4      0.000000                          0.0       0.000037      0.000000   \n",
       "\n",
       "  license_description_target_5 state_target_5 city_target_5  \n",
       "0                     0.000020       0.000025           0.0  \n",
       "1                     0.000000       0.000025           0.0  \n",
       "2                     0.000094       0.000025           0.0  \n",
       "3                     0.000020       0.000025           0.0  \n",
       "4                     0.000020       0.000025           0.0  \n",
       "\n",
       "[5 rows x 47 columns]"
      ]
     },
     "execution_count": 22,
     "metadata": {},
     "output_type": "execute_result"
    }
   ],
   "source": [
    "df.head()"
   ]
  },
  {
   "cell_type": "markdown",
   "metadata": {},
   "source": [
    "### **Class Imbalance**"
   ]
  },
  {
   "cell_type": "code",
   "execution_count": 23,
   "metadata": {},
   "outputs": [
    {
     "data": {
      "text/plain": [
       "AAI    55400\n",
       "AAC    30200\n",
       "REV      290\n",
       "REA        3\n",
       "INQ        2\n",
       "Name: license_status, dtype: int64"
      ]
     },
     "execution_count": 23,
     "metadata": {},
     "output_type": "execute_result"
    }
   ],
   "source": [
    "df.license_status.value_counts()"
   ]
  },
  {
   "cell_type": "code",
   "execution_count": 16,
   "metadata": {},
   "outputs": [
    {
     "data": {
      "text/plain": [
       "AAI    64.497%\n",
       "AAC    35.159%\n",
       "REV     0.338%\n",
       "REA     0.003%\n",
       "INQ     0.002%\n",
       "Name: license_status, dtype: object"
      ]
     },
     "execution_count": 16,
     "metadata": {},
     "output_type": "execute_result"
    }
   ],
   "source": [
    "df.license_status.value_counts(normalize=True).mul(100).round(3).astype(str) + '%' \n",
    "#mul() function multiplies"
   ]
  },
  {
   "cell_type": "markdown",
   "metadata": {},
   "source": [
    "## **over sampling/under sampling**"
   ]
  },
  {
   "cell_type": "code",
   "execution_count": 24,
   "metadata": {},
   "outputs": [
    {
     "data": {
      "text/plain": [
       "[0, 1, 2, 3, 4]"
      ]
     },
     "execution_count": 24,
     "metadata": {},
     "output_type": "execute_result"
    }
   ],
   "source": [
    "np.sort(df.target.unique()).tolist()"
   ]
  },
  {
   "cell_type": "code",
   "execution_count": 25,
   "metadata": {},
   "outputs": [
    {
     "data": {
      "text/plain": [
       "1    16620\n",
       "0     9060\n",
       "4      580\n",
       "2      400\n",
       "3      300\n",
       "Name: target, dtype: int64"
      ]
     },
     "execution_count": 25,
     "metadata": {},
     "output_type": "execute_result"
    }
   ],
   "source": [
    "# Undersampling\n",
    "df_0 = df[df.target==0].sample(frac=0.3,replace=False)\n",
    "df_1 = df[df.target==1].sample(frac=0.3,replace=False)\n",
    "\n",
    "# oversampling\n",
    "df_2 = df[df.target==2].sample(frac=200,replace=True)\n",
    "df_3 = df[df.target==3].sample(frac=100,replace=True)\n",
    "df_4 = df[df.target==4].sample(frac=2,replace=True)\n",
    "\n",
    "sampled_df = pd.concat([df_0,df_1,df_2,df_3,df_4])\n",
    "\n",
    "sampled_df.target.value_counts()"
   ]
  },
  {
   "cell_type": "code",
   "execution_count": 31,
   "metadata": {},
   "outputs": [
    {
     "data": {
      "text/plain": [
       "1    61.647%\n",
       "0    33.605%\n",
       "4     2.151%\n",
       "2     1.484%\n",
       "3     1.113%\n",
       "Name: target, dtype: object"
      ]
     },
     "execution_count": 31,
     "metadata": {},
     "output_type": "execute_result"
    }
   ],
   "source": [
    "sampled_df.target.value_counts(normalize=True).mul(100).round(3).astype(str) + '%' "
   ]
  },
  {
   "cell_type": "markdown",
   "metadata": {},
   "source": [
    "## **Train / Test Data Preparation**"
   ]
  },
  {
   "cell_type": "code",
   "execution_count": 32,
   "metadata": {},
   "outputs": [],
   "source": [
    "X = sampled_df[['latitude', 'longitude',\n",
    "       'completion_to_start',\n",
    "       'start_to_expiry', 'approval_to_issuance', 'completion_to_payment',\n",
    "       'presence_of_enquiry_details',  'license_description_target_1',\n",
    "       'state_target_1', 'city_target_1', 'license_description_target_2',\n",
    "       'state_target_2', 'city_target_2', 'license_description_target_3',\n",
    "       'state_target_3', 'city_target_3', 'license_description_target_4',\n",
    "       'state_target_4', 'city_target_4', 'license_description_target_5',\n",
    "       'state_target_5', 'city_target_5']]\n",
    "\n",
    "y = sampled_df['target']"
   ]
  },
  {
   "cell_type": "code",
   "execution_count": 33,
   "metadata": {},
   "outputs": [],
   "source": [
    "# mean imputation\n",
    "X = X.fillna(X.mean())"
   ]
  },
  {
   "cell_type": "code",
   "execution_count": 34,
   "metadata": {},
   "outputs": [],
   "source": [
    "# Train/test preparation\n",
    "from sklearn.model_selection import train_test_split\n",
    "from sklearn.ensemble import RandomForestClassifier\n",
    "from sklearn.metrics import f1_score\n",
    "\n",
    "X_train, X_test, y_train, y_test = train_test_split(X,y, test_size=0.1)"
   ]
  },
  {
   "cell_type": "markdown",
   "metadata": {},
   "source": [
    "# **Model Building**"
   ]
  },
  {
   "cell_type": "markdown",
   "metadata": {},
   "source": [
    "### **KNN**"
   ]
  },
  {
   "cell_type": "code",
   "execution_count": 76,
   "metadata": {},
   "outputs": [],
   "source": [
    "# KNN\n",
    "from sklearn.neighbors import KNeighborsClassifier\n",
    "knn_model = KNeighborsClassifier(n_neighbors=3)"
   ]
  },
  {
   "cell_type": "code",
   "execution_count": 77,
   "metadata": {},
   "outputs": [],
   "source": [
    "# Scaling\n",
    "from sklearn.preprocessing import MinMaxScaler\n",
    "scaler = MinMaxScaler()\n",
    "scaler.fit(X_train)\n",
    "knn_model.fit((scaler.transform(X_train)),y_train)\n",
    "scaler.fit(X_test)\n",
    "y_pred = knn_model.predict(scaler.transform(X_test))"
   ]
  },
  {
   "cell_type": "code",
   "execution_count": 78,
   "metadata": {},
   "outputs": [
    {
     "data": {
      "text/html": [
       "<div>\n",
       "<style scoped>\n",
       "    .dataframe tbody tr th:only-of-type {\n",
       "        vertical-align: middle;\n",
       "    }\n",
       "\n",
       "    .dataframe tbody tr th {\n",
       "        vertical-align: top;\n",
       "    }\n",
       "\n",
       "    .dataframe thead th {\n",
       "        text-align: right;\n",
       "    }\n",
       "</style>\n",
       "<table border=\"1\" class=\"dataframe\">\n",
       "  <thead>\n",
       "    <tr style=\"text-align: right;\">\n",
       "      <th></th>\n",
       "      <th>precision</th>\n",
       "      <th>recall</th>\n",
       "      <th>f1-score</th>\n",
       "      <th>support</th>\n",
       "    </tr>\n",
       "  </thead>\n",
       "  <tbody>\n",
       "    <tr>\n",
       "      <th>0</th>\n",
       "      <td>0.802548</td>\n",
       "      <td>0.560000</td>\n",
       "      <td>0.659686</td>\n",
       "      <td>900.000000</td>\n",
       "    </tr>\n",
       "    <tr>\n",
       "      <th>1</th>\n",
       "      <td>0.790778</td>\n",
       "      <td>0.951671</td>\n",
       "      <td>0.863796</td>\n",
       "      <td>1676.000000</td>\n",
       "    </tr>\n",
       "    <tr>\n",
       "      <th>2</th>\n",
       "      <td>0.000000</td>\n",
       "      <td>0.000000</td>\n",
       "      <td>0.000000</td>\n",
       "      <td>29.000000</td>\n",
       "    </tr>\n",
       "    <tr>\n",
       "      <th>3</th>\n",
       "      <td>1.000000</td>\n",
       "      <td>0.333333</td>\n",
       "      <td>0.500000</td>\n",
       "      <td>33.000000</td>\n",
       "    </tr>\n",
       "    <tr>\n",
       "      <th>4</th>\n",
       "      <td>0.475000</td>\n",
       "      <td>0.327586</td>\n",
       "      <td>0.387755</td>\n",
       "      <td>58.000000</td>\n",
       "    </tr>\n",
       "    <tr>\n",
       "      <th>accuracy</th>\n",
       "      <td>0.789688</td>\n",
       "      <td>0.789688</td>\n",
       "      <td>0.789688</td>\n",
       "      <td>0.789688</td>\n",
       "    </tr>\n",
       "    <tr>\n",
       "      <th>macro avg</th>\n",
       "      <td>0.613665</td>\n",
       "      <td>0.434518</td>\n",
       "      <td>0.482247</td>\n",
       "      <td>2696.000000</td>\n",
       "    </tr>\n",
       "    <tr>\n",
       "      <th>weighted avg</th>\n",
       "      <td>0.781969</td>\n",
       "      <td>0.789688</td>\n",
       "      <td>0.771673</td>\n",
       "      <td>2696.000000</td>\n",
       "    </tr>\n",
       "  </tbody>\n",
       "</table>\n",
       "</div>"
      ],
      "text/plain": [
       "              precision    recall  f1-score      support\n",
       "0              0.802548  0.560000  0.659686   900.000000\n",
       "1              0.790778  0.951671  0.863796  1676.000000\n",
       "2              0.000000  0.000000  0.000000    29.000000\n",
       "3              1.000000  0.333333  0.500000    33.000000\n",
       "4              0.475000  0.327586  0.387755    58.000000\n",
       "accuracy       0.789688  0.789688  0.789688     0.789688\n",
       "macro avg      0.613665  0.434518  0.482247  2696.000000\n",
       "weighted avg   0.781969  0.789688  0.771673  2696.000000"
      ]
     },
     "execution_count": 78,
     "metadata": {},
     "output_type": "execute_result"
    }
   ],
   "source": [
    "# Metrics Performance\n",
    "from sklearn.metrics import classification_report\n",
    "from sklearn.metrics import classification_report,confusion_matrix\n",
    "#print(classification_report(y_test,y_pred))\n",
    "report = classification_report(y_test, y_pred, output_dict=True)\n",
    "df_classification_report = pd.DataFrame(report).transpose()\n",
    "\n",
    "# Print or further manipulate the DataFrame\n",
    "df_classification_report"
   ]
  },
  {
   "cell_type": "markdown",
   "metadata": {},
   "source": [
    "### **Logistic Regression**"
   ]
  },
  {
   "cell_type": "code",
   "execution_count": 79,
   "metadata": {},
   "outputs": [],
   "source": [
    "# Logistic regression\n",
    "from sklearn.linear_model import LogisticRegression\n",
    "log_model = LogisticRegression()\n",
    "log_model.fit(X_train, y_train)\n",
    "y_pred = log_model.predict(X_test)"
   ]
  },
  {
   "cell_type": "code",
   "execution_count": 80,
   "metadata": {},
   "outputs": [
    {
     "data": {
      "text/html": [
       "<div>\n",
       "<style scoped>\n",
       "    .dataframe tbody tr th:only-of-type {\n",
       "        vertical-align: middle;\n",
       "    }\n",
       "\n",
       "    .dataframe tbody tr th {\n",
       "        vertical-align: top;\n",
       "    }\n",
       "\n",
       "    .dataframe thead th {\n",
       "        text-align: right;\n",
       "    }\n",
       "</style>\n",
       "<table border=\"1\" class=\"dataframe\">\n",
       "  <thead>\n",
       "    <tr style=\"text-align: right;\">\n",
       "      <th></th>\n",
       "      <th>precision</th>\n",
       "      <th>recall</th>\n",
       "      <th>f1-score</th>\n",
       "      <th>support</th>\n",
       "    </tr>\n",
       "  </thead>\n",
       "  <tbody>\n",
       "    <tr>\n",
       "      <th>0</th>\n",
       "      <td>0.576244</td>\n",
       "      <td>0.398889</td>\n",
       "      <td>0.471438</td>\n",
       "      <td>900.000000</td>\n",
       "    </tr>\n",
       "    <tr>\n",
       "      <th>1</th>\n",
       "      <td>0.716981</td>\n",
       "      <td>0.884248</td>\n",
       "      <td>0.791878</td>\n",
       "      <td>1676.000000</td>\n",
       "    </tr>\n",
       "    <tr>\n",
       "      <th>2</th>\n",
       "      <td>0.000000</td>\n",
       "      <td>0.000000</td>\n",
       "      <td>0.000000</td>\n",
       "      <td>29.000000</td>\n",
       "    </tr>\n",
       "    <tr>\n",
       "      <th>3</th>\n",
       "      <td>0.000000</td>\n",
       "      <td>0.000000</td>\n",
       "      <td>0.000000</td>\n",
       "      <td>33.000000</td>\n",
       "    </tr>\n",
       "    <tr>\n",
       "      <th>4</th>\n",
       "      <td>0.000000</td>\n",
       "      <td>0.000000</td>\n",
       "      <td>0.000000</td>\n",
       "      <td>58.000000</td>\n",
       "    </tr>\n",
       "    <tr>\n",
       "      <th>accuracy</th>\n",
       "      <td>0.682864</td>\n",
       "      <td>0.682864</td>\n",
       "      <td>0.682864</td>\n",
       "      <td>0.682864</td>\n",
       "    </tr>\n",
       "    <tr>\n",
       "      <th>macro avg</th>\n",
       "      <td>0.258645</td>\n",
       "      <td>0.256627</td>\n",
       "      <td>0.252663</td>\n",
       "      <td>2696.000000</td>\n",
       "    </tr>\n",
       "    <tr>\n",
       "      <th>weighted avg</th>\n",
       "      <td>0.638086</td>\n",
       "      <td>0.682864</td>\n",
       "      <td>0.649659</td>\n",
       "      <td>2696.000000</td>\n",
       "    </tr>\n",
       "  </tbody>\n",
       "</table>\n",
       "</div>"
      ],
      "text/plain": [
       "              precision    recall  f1-score      support\n",
       "0              0.576244  0.398889  0.471438   900.000000\n",
       "1              0.716981  0.884248  0.791878  1676.000000\n",
       "2              0.000000  0.000000  0.000000    29.000000\n",
       "3              0.000000  0.000000  0.000000    33.000000\n",
       "4              0.000000  0.000000  0.000000    58.000000\n",
       "accuracy       0.682864  0.682864  0.682864     0.682864\n",
       "macro avg      0.258645  0.256627  0.252663  2696.000000\n",
       "weighted avg   0.638086  0.682864  0.649659  2696.000000"
      ]
     },
     "execution_count": 80,
     "metadata": {},
     "output_type": "execute_result"
    }
   ],
   "source": [
    "# Metrics Performance\n",
    "#print(classification_report(y_test,y_pred))\n",
    "report = classification_report(y_test, y_pred, output_dict=True)\n",
    "df_classification_report = pd.DataFrame(report).transpose()\n",
    "\n",
    "# Print or further manipulate the DataFrame\n",
    "df_classification_report"
   ]
  },
  {
   "cell_type": "code",
   "execution_count": 81,
   "metadata": {},
   "outputs": [
    {
     "name": "stdout",
     "output_type": "stream",
     "text": [
      "[[ 359  539    2    0    0]\n",
      " [ 190 1482    2    1    1]\n",
      " [   0   29    0    0    0]\n",
      " [  33    0    0    0    0]\n",
      " [  41   17    0    0    0]]\n"
     ]
    }
   ],
   "source": [
    "# Metrics Performance\n",
    "print(confusion_matrix(y_test,y_pred))"
   ]
  },
  {
   "cell_type": "code",
   "execution_count": 82,
   "metadata": {},
   "outputs": [
    {
     "data": {
      "image/png": "[encoded data removed]",
      "text/plain": [
       "<Figure size 800x600 with 2 Axes>"
      ]
     },
     "metadata": {},
     "output_type": "display_data"
    }
   ],
   "source": [
    "plot_confusion_matrix(y_test,y_pred)"
   ]
  },
  {
   "cell_type": "markdown",
   "metadata": {},
   "source": [
    "### **Naive Bias**"
   ]
  },
  {
   "cell_type": "code",
   "execution_count": 83,
   "metadata": {},
   "outputs": [],
   "source": [
    "# Naive Bias\n",
    "from sklearn.naive_bayes import GaussianNB\n",
    "nb_model = GaussianNB()\n",
    "y_pred = nb_model.fit(X_train, y_train).predict(X_test)"
   ]
  },
  {
   "cell_type": "code",
   "execution_count": 84,
   "metadata": {},
   "outputs": [
    {
     "data": {
      "text/html": [
       "<div>\n",
       "<style scoped>\n",
       "    .dataframe tbody tr th:only-of-type {\n",
       "        vertical-align: middle;\n",
       "    }\n",
       "\n",
       "    .dataframe tbody tr th {\n",
       "        vertical-align: top;\n",
       "    }\n",
       "\n",
       "    .dataframe thead th {\n",
       "        text-align: right;\n",
       "    }\n",
       "</style>\n",
       "<table border=\"1\" class=\"dataframe\">\n",
       "  <thead>\n",
       "    <tr style=\"text-align: right;\">\n",
       "      <th></th>\n",
       "      <th>precision</th>\n",
       "      <th>recall</th>\n",
       "      <th>f1-score</th>\n",
       "      <th>support</th>\n",
       "    </tr>\n",
       "  </thead>\n",
       "  <tbody>\n",
       "    <tr>\n",
       "      <th>0</th>\n",
       "      <td>0.592834</td>\n",
       "      <td>0.404444</td>\n",
       "      <td>0.480845</td>\n",
       "      <td>900.000000</td>\n",
       "    </tr>\n",
       "    <tr>\n",
       "      <th>1</th>\n",
       "      <td>0.907541</td>\n",
       "      <td>0.825776</td>\n",
       "      <td>0.864730</td>\n",
       "      <td>1676.000000</td>\n",
       "    </tr>\n",
       "    <tr>\n",
       "      <th>2</th>\n",
       "      <td>1.000000</td>\n",
       "      <td>1.000000</td>\n",
       "      <td>1.000000</td>\n",
       "      <td>29.000000</td>\n",
       "    </tr>\n",
       "    <tr>\n",
       "      <th>3</th>\n",
       "      <td>0.275000</td>\n",
       "      <td>1.000000</td>\n",
       "      <td>0.431373</td>\n",
       "      <td>33.000000</td>\n",
       "    </tr>\n",
       "    <tr>\n",
       "      <th>4</th>\n",
       "      <td>0.098039</td>\n",
       "      <td>0.689655</td>\n",
       "      <td>0.171674</td>\n",
       "      <td>58.000000</td>\n",
       "    </tr>\n",
       "    <tr>\n",
       "      <th>accuracy</th>\n",
       "      <td>0.686202</td>\n",
       "      <td>0.686202</td>\n",
       "      <td>0.686202</td>\n",
       "      <td>0.686202</td>\n",
       "    </tr>\n",
       "    <tr>\n",
       "      <th>macro avg</th>\n",
       "      <td>0.574683</td>\n",
       "      <td>0.783975</td>\n",
       "      <td>0.589724</td>\n",
       "      <td>2696.000000</td>\n",
       "    </tr>\n",
       "    <tr>\n",
       "      <th>weighted avg</th>\n",
       "      <td>0.778320</td>\n",
       "      <td>0.686202</td>\n",
       "      <td>0.717819</td>\n",
       "      <td>2696.000000</td>\n",
       "    </tr>\n",
       "  </tbody>\n",
       "</table>\n",
       "</div>"
      ],
      "text/plain": [
       "              precision    recall  f1-score      support\n",
       "0              0.592834  0.404444  0.480845   900.000000\n",
       "1              0.907541  0.825776  0.864730  1676.000000\n",
       "2              1.000000  1.000000  1.000000    29.000000\n",
       "3              0.275000  1.000000  0.431373    33.000000\n",
       "4              0.098039  0.689655  0.171674    58.000000\n",
       "accuracy       0.686202  0.686202  0.686202     0.686202\n",
       "macro avg      0.574683  0.783975  0.589724  2696.000000\n",
       "weighted avg   0.778320  0.686202  0.717819  2696.000000"
      ]
     },
     "execution_count": 84,
     "metadata": {},
     "output_type": "execute_result"
    }
   ],
   "source": [
    "# Metrics Performance\n",
    "#print(classification_report(y_test,y_pred))\n",
    "report = classification_report(y_test, y_pred, output_dict=True)\n",
    "df_classification_report = pd.DataFrame(report).transpose()\n",
    "\n",
    "# Print or further manipulate the DataFrame\n",
    "df_classification_report"
   ]
  },
  {
   "cell_type": "code",
   "execution_count": 85,
   "metadata": {},
   "outputs": [
    {
     "name": "stdout",
     "output_type": "stream",
     "text": [
      "[[ 364  141    0   78  317]\n",
      " [ 236 1384    0    5   51]\n",
      " [   0    0   29    0    0]\n",
      " [   0    0    0   33    0]\n",
      " [  14    0    0    4   40]]\n"
     ]
    }
   ],
   "source": [
    "print(confusion_matrix(y_test,y_pred))"
   ]
  },
  {
   "cell_type": "code",
   "execution_count": 86,
   "metadata": {
    "jupyter": {
     "source_hidden": true
    },
    "tags": []
   },
   "outputs": [],
   "source": [
    "import seaborn as sns\n",
    "def plot_confusion_matrix(y_test, y_pred):\n",
    "    # Calculate confusion matrix\n",
    "    conf_matrix = confusion_matrix(y_test, y_pred)\n",
    "    \n",
    "    # Plot confusion matrix\n",
    "    plt.figure(figsize=(8, 6))\n",
    "    sns.heatmap(conf_matrix, annot=True, cmap='Blues', fmt='g')\n",
    "    plt.xlabel('Predicted Label')\n",
    "    plt.ylabel('True Label')\n",
    "    plt.title('Confusion Matrix')\n",
    "    plt.show()"
   ]
  },
  {
   "cell_type": "code",
   "execution_count": 87,
   "metadata": {},
   "outputs": [
    {
     "data": {
      "image/png": "[encoded data removed]",
      "text/plain": [
       "<Figure size 800x600 with 2 Axes>"
      ]
     },
     "metadata": {},
     "output_type": "display_data"
    }
   ],
   "source": [
    "plot_confusion_matrix(y_test,y_pred)"
   ]
  },
  {
   "cell_type": "markdown",
   "metadata": {},
   "source": [
    "### **Decision Tree**"
   ]
  },
  {
   "cell_type": "code",
   "execution_count": 88,
   "metadata": {},
   "outputs": [],
   "source": [
    "# Decision Tree\n",
    "from sklearn.tree import DecisionTreeClassifier\n",
    "dt_model = DecisionTreeClassifier(random_state=0)\n",
    "y_pred = dt_model.fit(X_train, y_train).predict(X_test)"
   ]
  },
  {
   "cell_type": "code",
   "execution_count": 89,
   "metadata": {},
   "outputs": [
    {
     "data": {
      "text/html": [
       "<style>#sk-container-id-2 {color: black;background-color: white;}#sk-container-id-2 pre{padding: 0;}#sk-container-id-2 div.sk-toggleable {background-color: white;}#sk-container-id-2 label.sk-toggleable__label {cursor: pointer;display: block;width: 100%;margin-bottom: 0;padding: 0.3em;box-sizing: border-box;text-align: center;}#sk-container-id-2 label.sk-toggleable__label-arrow:before {content: \"▸\";float: left;margin-right: 0.25em;color: #696969;}#sk-container-id-2 label.sk-toggleable__label-arrow:hover:before {color: black;}#sk-container-id-2 div.sk-estimator:hover label.sk-toggleable__label-arrow:before {color: black;}#sk-container-id-2 div.sk-toggleable__content {max-height: 0;max-width: 0;overflow: hidden;text-align: left;background-color: #f0f8ff;}#sk-container-id-2 div.sk-toggleable__content pre {margin: 0.2em;color: black;border-radius: 0.25em;background-color: #f0f8ff;}#sk-container-id-2 input.sk-toggleable__control:checked~div.sk-toggleable__content {max-height: 200px;max-width: 100%;overflow: auto;}#sk-container-id-2 input.sk-toggleable__control:checked~label.sk-toggleable__label-arrow:before {content: \"▾\";}#sk-container-id-2 div.sk-estimator input.sk-toggleable__control:checked~label.sk-toggleable__label {background-color: #d4ebff;}#sk-container-id-2 div.sk-label input.sk-toggleable__control:checked~label.sk-toggleable__label {background-color: #d4ebff;}#sk-container-id-2 input.sk-hidden--visually {border: 0;clip: rect(1px 1px 1px 1px);clip: rect(1px, 1px, 1px, 1px);height: 1px;margin: -1px;overflow: hidden;padding: 0;position: absolute;width: 1px;}#sk-container-id-2 div.sk-estimator {font-family: monospace;background-color: #f0f8ff;border: 1px dotted black;border-radius: 0.25em;box-sizing: border-box;margin-bottom: 0.5em;}#sk-container-id-2 div.sk-estimator:hover {background-color: #d4ebff;}#sk-container-id-2 div.sk-parallel-item::after {content: \"\";width: 100%;border-bottom: 1px solid gray;flex-grow: 1;}#sk-container-id-2 div.sk-label:hover label.sk-toggleable__label {background-color: #d4ebff;}#sk-container-id-2 div.sk-serial::before {content: \"\";position: absolute;border-left: 1px solid gray;box-sizing: border-box;top: 0;bottom: 0;left: 50%;z-index: 0;}#sk-container-id-2 div.sk-serial {display: flex;flex-direction: column;align-items: center;background-color: white;padding-right: 0.2em;padding-left: 0.2em;position: relative;}#sk-container-id-2 div.sk-item {position: relative;z-index: 1;}#sk-container-id-2 div.sk-parallel {display: flex;align-items: stretch;justify-content: center;background-color: white;position: relative;}#sk-container-id-2 div.sk-item::before, #sk-container-id-2 div.sk-parallel-item::before {content: \"\";position: absolute;border-left: 1px solid gray;box-sizing: border-box;top: 0;bottom: 0;left: 50%;z-index: -1;}#sk-container-id-2 div.sk-parallel-item {display: flex;flex-direction: column;z-index: 1;position: relative;background-color: white;}#sk-container-id-2 div.sk-parallel-item:first-child::after {align-self: flex-end;width: 50%;}#sk-container-id-2 div.sk-parallel-item:last-child::after {align-self: flex-start;width: 50%;}#sk-container-id-2 div.sk-parallel-item:only-child::after {width: 0;}#sk-container-id-2 div.sk-dashed-wrapped {border: 1px dashed gray;margin: 0 0.4em 0.5em 0.4em;box-sizing: border-box;padding-bottom: 0.4em;background-color: white;}#sk-container-id-2 div.sk-label label {font-family: monospace;font-weight: bold;display: inline-block;line-height: 1.2em;}#sk-container-id-2 div.sk-label-container {text-align: center;}#sk-container-id-2 div.sk-container {/* jupyter's `normalize.less` sets `[hidden] { display: none; }` but bootstrap.min.css set `[hidden] { display: none !important; }` so we also need the `!important` here to be able to override the default hidden behavior on the sphinx rendered scikit-learn.org. See: https://github.com/scikit-learn/scikit-learn/issues/21755 */display: inline-block !important;position: relative;}#sk-container-id-2 div.sk-text-repr-fallback {display: none;}</style><div id=\"sk-container-id-2\" class=\"sk-top-container\"><div class=\"sk-text-repr-fallback\"><pre>DecisionTreeClassifier()</pre><b>In a Jupyter environment, please rerun this cell to show the HTML representation or trust the notebook. <br />On GitHub, the HTML representation is unable to render, please try loading this page with nbviewer.org.</b></div><div class=\"sk-container\" hidden><div class=\"sk-item\"><div class=\"sk-estimator sk-toggleable\"><input class=\"sk-toggleable__control sk-hidden--visually\" id=\"sk-estimator-id-2\" type=\"checkbox\" checked><label for=\"sk-estimator-id-2\" class=\"sk-toggleable__label sk-toggleable__label-arrow\">DecisionTreeClassifier</label><div class=\"sk-toggleable__content\"><pre>DecisionTreeClassifier()</pre></div></div></div></div></div>"
      ],
      "text/plain": [
       "DecisionTreeClassifier()"
      ]
     },
     "execution_count": 89,
     "metadata": {},
     "output_type": "execute_result"
    }
   ],
   "source": [
    "# Decision Tree\n",
    "from sklearn.tree import DecisionTreeClassifier\n",
    "DecisionTreeClassifier()"
   ]
  },
  {
   "cell_type": "code",
   "execution_count": 90,
   "metadata": {},
   "outputs": [
    {
     "data": {
      "text/html": [
       "<div>\n",
       "<style scoped>\n",
       "    .dataframe tbody tr th:only-of-type {\n",
       "        vertical-align: middle;\n",
       "    }\n",
       "\n",
       "    .dataframe tbody tr th {\n",
       "        vertical-align: top;\n",
       "    }\n",
       "\n",
       "    .dataframe thead th {\n",
       "        text-align: right;\n",
       "    }\n",
       "</style>\n",
       "<table border=\"1\" class=\"dataframe\">\n",
       "  <thead>\n",
       "    <tr style=\"text-align: right;\">\n",
       "      <th></th>\n",
       "      <th>precision</th>\n",
       "      <th>recall</th>\n",
       "      <th>f1-score</th>\n",
       "      <th>support</th>\n",
       "    </tr>\n",
       "  </thead>\n",
       "  <tbody>\n",
       "    <tr>\n",
       "      <th>0</th>\n",
       "      <td>0.769063</td>\n",
       "      <td>0.784444</td>\n",
       "      <td>0.776678</td>\n",
       "      <td>900.000000</td>\n",
       "    </tr>\n",
       "    <tr>\n",
       "      <th>1</th>\n",
       "      <td>0.892532</td>\n",
       "      <td>0.877088</td>\n",
       "      <td>0.884743</td>\n",
       "      <td>1676.000000</td>\n",
       "    </tr>\n",
       "    <tr>\n",
       "      <th>2</th>\n",
       "      <td>1.000000</td>\n",
       "      <td>1.000000</td>\n",
       "      <td>1.000000</td>\n",
       "      <td>29.000000</td>\n",
       "    </tr>\n",
       "    <tr>\n",
       "      <th>3</th>\n",
       "      <td>1.000000</td>\n",
       "      <td>1.000000</td>\n",
       "      <td>1.000000</td>\n",
       "      <td>33.000000</td>\n",
       "    </tr>\n",
       "    <tr>\n",
       "      <th>4</th>\n",
       "      <td>0.739130</td>\n",
       "      <td>0.879310</td>\n",
       "      <td>0.803150</td>\n",
       "      <td>58.000000</td>\n",
       "    </tr>\n",
       "    <tr>\n",
       "      <th>accuracy</th>\n",
       "      <td>0.849036</td>\n",
       "      <td>0.849036</td>\n",
       "      <td>0.849036</td>\n",
       "      <td>0.849036</td>\n",
       "    </tr>\n",
       "    <tr>\n",
       "      <th>macro avg</th>\n",
       "      <td>0.880145</td>\n",
       "      <td>0.908169</td>\n",
       "      <td>0.892914</td>\n",
       "      <td>2696.000000</td>\n",
       "    </tr>\n",
       "    <tr>\n",
       "      <th>weighted avg</th>\n",
       "      <td>0.850486</td>\n",
       "      <td>0.849036</td>\n",
       "      <td>0.849563</td>\n",
       "      <td>2696.000000</td>\n",
       "    </tr>\n",
       "  </tbody>\n",
       "</table>\n",
       "</div>"
      ],
      "text/plain": [
       "              precision    recall  f1-score      support\n",
       "0              0.769063  0.784444  0.776678   900.000000\n",
       "1              0.892532  0.877088  0.884743  1676.000000\n",
       "2              1.000000  1.000000  1.000000    29.000000\n",
       "3              1.000000  1.000000  1.000000    33.000000\n",
       "4              0.739130  0.879310  0.803150    58.000000\n",
       "accuracy       0.849036  0.849036  0.849036     0.849036\n",
       "macro avg      0.880145  0.908169  0.892914  2696.000000\n",
       "weighted avg   0.850486  0.849036  0.849563  2696.000000"
      ]
     },
     "execution_count": 90,
     "metadata": {},
     "output_type": "execute_result"
    }
   ],
   "source": [
    "# Metrics Performance\n",
    "report = classification_report(y_test, y_pred, output_dict=True)\n",
    "df_classification_report = pd.DataFrame(report).transpose()\n",
    "\n",
    "# Print or further manipulate the DataFrame\n",
    "df_classification_report"
   ]
  },
  {
   "cell_type": "code",
   "execution_count": 91,
   "metadata": {},
   "outputs": [
    {
     "name": "stdout",
     "output_type": "stream",
     "text": [
      "[[ 706  177    0    0   17]\n",
      " [ 205 1470    0    0    1]\n",
      " [   0    0   29    0    0]\n",
      " [   0    0    0   33    0]\n",
      " [   7    0    0    0   51]]\n"
     ]
    }
   ],
   "source": [
    "print(confusion_matrix(y_test,y_pred))"
   ]
  },
  {
   "cell_type": "code",
   "execution_count": 92,
   "metadata": {},
   "outputs": [
    {
     "data": {
      "image/png": "[encoded data removed]",
      "text/plain": [
       "<Figure size 800x600 with 2 Axes>"
      ]
     },
     "metadata": {},
     "output_type": "display_data"
    }
   ],
   "source": [
    "plot_confusion_matrix(y_test,y_pred)"
   ]
  },
  {
   "cell_type": "markdown",
   "metadata": {},
   "source": [
    "**Interpreting the given confusion matrix:**\n",
    "\n",
    "- Class 0:\n",
    "Correctly classified: 706 instances (True positives)\n",
    "Misclassified as class 1: 177 instances\n",
    "Misclassified as class 4: 17 instances\n",
    "- Class 1:\n",
    "Correctly classified: 1470 instances (True positives)\n",
    "Misclassified as class 0: 205 instances\n",
    "Misclassified as class 4: 1 instance\n",
    "- Class 2:\n",
    "Correctly classified: 29 instances (True positives)\n",
    "- Class 3:\n",
    "Correctly classified: 33 instances (True positives)\n",
    "- Class 4:\n",
    "Correctly classified: 51 instances (True positives)\n",
    "Misclassified as class 0: 7 instances"
   ]
  },
  {
   "cell_type": "markdown",
   "metadata": {},
   "source": [
    "## Feature Selection"
   ]
  },
  {
   "cell_type": "code",
   "execution_count": 93,
   "metadata": {},
   "outputs": [],
   "source": [
    "# Finding the variable with more importance\n",
    "feature_importance = pd.DataFrame([X_train.columns, dt_model.feature_importances_])\n",
    "feature_importance = feature_importance.T.sort_values(by = 1, ascending=False)[1:10]"
   ]
  },
  {
   "cell_type": "code",
   "execution_count": 95,
   "metadata": {},
   "outputs": [
    {
     "name": "stderr",
     "output_type": "stream",
     "text": [
      "No artists with labels found to put in legend.  Note that artists whose label start with an underscore are ignored when legend() is called with no argument.\n"
     ]
    },
    {
     "data": {
      "image/png": "[encoded data removed]",
      "text/plain": [
       "<Figure size 640x480 with 1 Axes>"
      ]
     },
     "metadata": {},
     "output_type": "display_data"
    }
   ],
   "source": [
    "import seaborn as sns\n",
    "sns.barplot(x=feature_importance[1], y=feature_importance[0])\n",
    "# Add labels to the graph\n",
    "plt.xlabel('Feature Importance Score')\n",
    "plt.ylabel('Features')\n",
    "plt.title(\"Visualizing Important Features\")\n",
    "plt.legend()\n",
    "plt.show()"
   ]
  },
  {
   "cell_type": "code",
   "execution_count": null,
   "metadata": {},
   "outputs": [],
   "source": []
  }
 ],
 "metadata": {
  "kernelspec": {
   "display_name": "Python 3 (ipykernel)",
   "language": "python",
   "name": "python3"
  },
  "language_info": {
   "codemirror_mode": {
    "name": "ipython",
    "version": 3
   },
   "file_extension": ".py",
   "mimetype": "text/x-python",
   "name": "python",
   "nbconvert_exporter": "python",
   "pygments_lexer": "ipython3",
   "version": "3.10.13"
  }
 },
 "nbformat": 4,
 "nbformat_minor": 4
}
